{
 "cells": [
  {
   "cell_type": "markdown",
   "metadata": {},
   "source": [
    "# Qcodes ZI UHFLI instrument driver"
   ]
  },
  {
   "cell_type": "markdown",
   "metadata": {},
   "source": [
    "Import qcodes and the ziuhfli driver. Be sure to have ZIpython installed in your current phython environment."
   ]
  },
  {
   "cell_type": "code",
   "execution_count": 1,
   "metadata": {
    "scrolled": false
   },
   "outputs": [],
   "source": [
    "import qcodes\n",
    "from qcodes.instrument_drivers.ZI import ziuhfli_new # Requires ZI python to be installed in the current python environment"
   ]
  },
  {
   "cell_type": "markdown",
   "metadata": {},
   "source": [
    "Specify the qcodes name (arbitrary) you want to give the Lock In and the correct ZI device ID. Then instantiate the instrument class"
   ]
  },
  {
   "cell_type": "code",
   "execution_count": 2,
   "metadata": {},
   "outputs": [
    {
     "name": "stdout",
     "output_type": "stream",
     "text": [
      "Discovered device `dev2013`: UHFLI with options MF, PID, MOD.\n",
      "Creating an API session for device `dev2013` on `127.0.0.1`, `8004` with apilevel `6`.\n"
     ]
    },
    {
     "name": "stderr",
     "output_type": "stream",
     "text": [
      "c:\\users\\he5user\\git_projects\\qcodes\\qcodes\\instrument\\parameter.py:220: UserWarning: Wrapping get method, original get method will not be directly accessible. It is recommended to define get_raw in your subclass instead.\n",
      "  warnings.warn('Wrapping get method, original get method will not '\n"
     ]
    }
   ],
   "source": [
    "name = 'uhfli'\n",
    "device = 'dev2013'\n",
    "a = ziuhfli_new.ZIUHFLI(name, device)"
   ]
  },
  {
   "cell_type": "markdown",
   "metadata": {},
   "source": [
    "All available parameters are listed by taking a snapshot. Parameters which may contain a large amount of data and/or take a large amount of time, are indexed with \"snapshot_value=false\" and will display \"Not available\""
   ]
  },
  {
   "cell_type": "code",
   "execution_count": 8,
   "metadata": {
    "scrolled": true
   },
   "outputs": [
    {
     "name": "stderr",
     "output_type": "stream",
     "text": [
      "Snapshot: Could not update parameter:signal_output1_amp8\n",
      "Snapshot: Could not update parameter:signal_output1_enable8\n",
      "Snapshot: Could not update parameter:signal_output2_amp8\n",
      "Snapshot: Could not update parameter:signal_output2_enable8\n"
     ]
    },
    {
     "name": "stdout",
     "output_type": "stream",
     "text": [
      "uhfli:\n",
      "\tparameter               value\n",
      "--------------------------------------------------------------------------------\n",
      "IDN                      :\t{'vendor': None, 'model': 'uhfli', 'serial': None,...\n",
      "PollDemod                :\tNot available (('V', 'deg', 's'))\n",
      "clockbase                :\t1.8e+09 (timestamps/s)\n",
      "demod1_adcselect         :\tSig In 1 \n",
      "demod1_bypassfilter      :\toff \n",
      "demod1_enable            :\toff \n",
      "demod1_freq              :\t20 (Hz)\n",
      "demod1_harmonic          :\t1 \n",
      "demod1_order             :\tAux Out 1 \n",
      "demod1_oscselect         :\t0 \n",
      "demod1_phaseshift        :\t0 (deg)\n",
      "demod1_phi               :\t[-138.44365866] (deg)\n",
      "demod1_r                 :\t[ 0.0001619] (V)\n",
      "demod1_rate              :\t1.0986e+05 (Sa/s)\n",
      "demod1_sample            :\tNot available \n",
      "demod1_sinc              :\toff \n",
      "demod1_timeconstant      :\t0.0014339 (s)\n",
      "demod1_trigger           :\tContinuous \n",
      "demod1_x                 :\t[-0.00011324] (V)\n",
      "demod1_y                 :\t[ 0.00010451] (V)\n",
      "demod2_adcselect         :\tSig In 1 \n",
      "demod2_bypassfilter      :\toff \n",
      "demod2_enable            :\toff \n",
      "demod2_freq              :\t397999 (Hz)\n",
      "demod2_harmonic          :\t1 \n",
      "demod2_order             :\tTrigger 2 \n",
      "demod2_oscselect         :\t1 \n",
      "demod2_phaseshift        :\t0 (deg)\n",
      "demod2_phi               :\t[ 179.90591299] (deg)\n",
      "demod2_r                 :\t[  2.40680337e-06] (V)\n",
      "demod2_rate              :\t1.0986e+05 (Sa/s)\n",
      "demod2_sample            :\tNot available \n",
      "demod2_sinc              :\toff \n",
      "demod2_timeconstant      :\t8.1154e-06 (s)\n",
      "demod2_trigger           :\tContinuous \n",
      "demod2_x                 :\t[  6.91834387e-06] (V)\n",
      "demod2_y                 :\t[  4.92627592e-06] (V)\n",
      "demod3_adcselect         :\tSig In 1 \n",
      "demod3_bypassfilter      :\toff \n",
      "demod3_enable            :\toff \n",
      "demod3_freq              :\t12757955 (Hz)\n",
      "demod3_harmonic          :\t1 \n",
      "demod3_order             :\tAux Out 3 \n",
      "demod3_oscselect         :\t7 \n",
      "demod3_phaseshift        :\t0 (deg)\n",
      "demod3_phi               :\t[ 0.55420982] (deg)\n",
      "demod3_r                 :\t[  1.91206748e-08] (V)\n",
      "demod3_rate              :\t429.15 (Sa/s)\n",
      "demod3_sample            :\tNot available \n",
      "demod3_sinc              :\toff \n",
      "demod3_timeconstant      :\t0.11147 (s)\n",
      "demod3_trigger           :\tContinuous \n",
      "demod3_x                 :\t[  1.93838141e-08] (V)\n",
      "demod3_y                 :\t[  1.56365736e-09] (V)\n",
      "demod4_adcselect         :\tSig In 1 \n",
      "demod4_bypassfilter      :\toff \n",
      "demod4_enable            :\ton \n",
      "demod4_freq              :\t6 (Hz)\n",
      "demod4_harmonic          :\t1 \n",
      "demod4_order             :\tAux In 1 \n",
      "demod4_oscselect         :\t3 \n",
      "demod4_phaseshift        :\t0 (deg)\n",
      "demod4_phi               :\t[ 106.25458733] (deg)\n",
      "demod4_r                 :\t[  5.57309420e-06] (V)\n",
      "demod4_rate              :\t1.0986e+05 (Sa/s)\n",
      "demod4_sample            :\tNot available \n",
      "demod4_sinc              :\toff \n",
      "demod4_timeconstant      :\t0.031722 (s)\n",
      "demod4_trigger           :\tContinuous \n",
      "demod4_x                 :\t[ -4.08093840e-06] (V)\n",
      "demod4_y                 :\t[  4.37810195e-06] (V)\n",
      "demod5_adcselect         :\tSig In 1 \n",
      "demod5_bypassfilter      :\toff \n",
      "demod5_enable            :\ton \n",
      "demod5_freq              :\t405435 (Hz)\n",
      "demod5_harmonic          :\t1 \n",
      "demod5_order             :\tAux Out 1 \n",
      "demod5_oscselect         :\t4 \n",
      "demod5_phaseshift        :\t0 (deg)\n",
      "demod5_phi               :\t[ 80.99260748] (deg)\n",
      "demod5_r                 :\t[  2.88509408e-06] (V)\n",
      "demod5_rate              :\t54932 (Sa/s)\n",
      "demod5_sample            :\tNot available \n",
      "demod5_sinc              :\toff \n",
      "demod5_timeconstant      :\t2.7705e-05 (s)\n",
      "demod5_trigger           :\tContinuous \n",
      "demod5_x                 :\t[  1.20750002e-06] (V)\n",
      "demod5_y                 :\t[ -7.10107573e-07] (V)\n",
      "demod6_adcselect         :\tSig In 1 \n",
      "demod6_bypassfilter      :\toff \n",
      "demod6_enable            :\toff \n",
      "demod6_freq              :\t6 (Hz)\n",
      "demod6_harmonic          :\t1 \n",
      "demod6_order             :\tAux Out 1 \n",
      "demod6_oscselect         :\t3 \n",
      "demod6_phaseshift        :\t0 (deg)\n",
      "demod6_phi               :\t[ 157.90817382] (deg)\n",
      "demod6_r                 :\t[ 0.00015018] (V)\n",
      "demod6_rate              :\t54932 (Sa/s)\n",
      "demod6_sample            :\tNot available \n",
      "demod6_sinc              :\toff \n",
      "demod6_timeconstant      :\t0.0062137 (s)\n",
      "demod6_trigger           :\tContinuous \n",
      "demod6_x                 :\t[ -8.08991590e-05] (V)\n",
      "demod6_y                 :\t[ -7.46790028e-05] (V)\n",
      "demod7_adcselect         :\tSig In 1 \n",
      "demod7_bypassfilter      :\toff \n",
      "demod7_enable            :\toff \n",
      "demod7_freq              :\t405435 (Hz)\n",
      "demod7_harmonic          :\t1 \n",
      "demod7_order             :\tAux Out 1 \n",
      "demod7_oscselect         :\t4 \n",
      "demod7_phaseshift        :\t0 (deg)\n",
      "demod7_phi               :\t[ 8.91406497] (deg)\n",
      "demod7_r                 :\t[  2.46325383e-07] (V)\n",
      "demod7_rate              :\t54932 (Sa/s)\n",
      "demod7_sample            :\tNot available \n",
      "demod7_sinc              :\toff \n",
      "demod7_timeconstant      :\t0.0062137 (s)\n",
      "demod7_trigger           :\tContinuous \n",
      "demod7_x                 :\t[ -3.60448297e-08] (V)\n",
      "demod7_y                 :\t[ -1.65704158e-07] (V)\n",
      "demod8_adcselect         :\tSig In 1 \n",
      "demod8_bypassfilter      :\toff \n",
      "demod8_enable            :\ton \n",
      "demod8_freq              :\t12757955 (Hz)\n",
      "demod8_harmonic          :\t1 \n",
      "demod8_order             :\tAux Out 1 \n",
      "demod8_oscselect         :\t7 \n",
      "demod8_phaseshift        :\t0 (deg)\n",
      "demod8_phi               :\t[-54.6728449] (deg)\n",
      "demod8_r                 :\t[  4.16755421e-06] (V)\n",
      "demod8_rate              :\t1.0986e+05 (Sa/s)\n",
      "demod8_sample            :\tNot available \n",
      "demod8_sinc              :\toff \n",
      "demod8_timeconstant      :\t1.9382e-05 (s)\n",
      "demod8_trigger           :\tContinuous \n",
      "demod8_x                 :\t[  7.25723884e-06] (V)\n",
      "demod8_y                 :\t[ -8.82951199e-07] (V)\n",
      "input1_ac                :\ton \n",
      "input1_autorange         :\toff \n",
      "input1_bw                :\ton \n",
      "input1_diff              :\tInverted \n",
      "input1_enable            :\ton \n",
      "input1_imp50             :\toff \n",
      "input1_max               :\t0.18018 (V)\n",
      "input1_min               :\t-0.1709 (V)\n",
      "input1_range             :\t0.05 (V)\n",
      "input1_scaling           :\t1 \n",
      "input2_ac                :\toff \n",
      "input2_autorange         :\toff \n",
      "input2_bw                :\ton \n",
      "input2_diff              :\tInverted \n",
      "input2_enable            :\ton \n",
      "input2_imp50             :\toff \n",
      "input2_max               :\t0.20801 (V)\n",
      "input2_min               :\t-0.13135 (V)\n",
      "input2_range             :\t0.01 (V)\n",
      "input2_scaling           :\t1 \n",
      "oscillator1_freq         :\t20 (Hz)\n",
      "oscillator2_freq         :\t3.98e+05 (Hz)\n",
      "oscillator3_freq         :\t1e+07 (Hz)\n",
      "oscillator4_freq         :\t6.2671 (Hz)\n",
      "oscillator5_freq         :\t4.0544e+05 (Hz)\n",
      "oscillator6_freq         :\t1e+07 (Hz)\n",
      "oscillator7_freq         :\t1e+07 (Hz)\n",
      "oscillator8_freq         :\t1.2758e+07 (Hz)\n",
      "poll_demod_duration      :\t2 (s)\n",
      "signal_output1_amp1      :\t0.15 (Vpk)\n",
      "signal_output1_amp2      :\t0.099998 (Vpk)\n",
      "signal_output1_amp3      :\t0.010002 (Vpk)\n",
      "signal_output1_amp4      :\t0.010002 (Vpk)\n",
      "signal_output1_amp5      :\t0.099998 (Vpk)\n",
      "signal_output1_amp6      :\t0.099998 (Vpk)\n",
      "signal_output1_amp7      :\t0.099998 (Vpk)\n",
      "signal_output1_amp8      :\tNone (Vpk)\n",
      "signal_output1_ampdef    :\tVpk (V)\n",
      "signal_output1_autorange :\toff \n",
      "signal_output1_enable1   :\toff \n",
      "signal_output1_enable2   :\toff \n",
      "signal_output1_enable3   :\ton \n",
      "signal_output1_enable4   :\ton \n",
      "signal_output1_enable5   :\toff \n",
      "signal_output1_enable6   :\toff \n",
      "signal_output1_enable7   :\toff \n",
      "signal_output1_enable8   :\tNone \n",
      "signal_output1_imp50     :\toff \n",
      "signal_output1_offset    :\t0 (V)\n",
      "signal_output1_on        :\toff \n",
      "signal_output1_overload  :\t0 \n",
      "signal_output1_range     :\t0.15 (V)\n",
      "signal_output2_amp1      :\t0.099998 (Vpk)\n",
      "signal_output2_amp2      :\t0.099998 (Vpk)\n",
      "signal_output2_amp3      :\t0.2 (Vpk)\n",
      "signal_output2_amp4      :\t0.099998 (Vpk)\n",
      "signal_output2_amp5      :\t0.099998 (Vpk)\n",
      "signal_output2_amp6      :\t0.099998 (Vpk)\n",
      "signal_output2_amp7      :\t0.099998 (Vpk)\n",
      "signal_output2_amp8      :\tNone (Vpk)\n",
      "signal_output2_ampdef    :\tVpk (V)\n",
      "signal_output2_autorange :\toff \n",
      "signal_output2_enable1   :\toff \n",
      "signal_output2_enable2   :\toff \n",
      "signal_output2_enable3   :\toff \n",
      "signal_output2_enable4   :\toff \n",
      "signal_output2_enable5   :\toff \n",
      "signal_output2_enable6   :\toff \n",
      "signal_output2_enable7   :\toff \n",
      "signal_output2_enable8   :\tNone \n",
      "signal_output2_imp50     :\toff \n",
      "signal_output2_offset    :\t0 (V)\n",
      "signal_output2_on        :\toff \n",
      "signal_output2_overload  :\t0 \n",
      "signal_output2_range     :\t1.5 (V)\n"
     ]
    }
   ],
   "source": [
    "a.print_readable_snapshot(update=True)"
   ]
  },
  {
   "cell_type": "markdown",
   "metadata": {},
   "source": [
    "## Polling Data ##\n",
    "Polling demodulator samples"
   ]
  },
  {
   "cell_type": "code",
   "execution_count": 4,
   "metadata": {
    "scrolled": true
   },
   "outputs": [],
   "source": [
    "a.add_poll_demod(8,'r')       # add demodulator by providing number and data node (x, y, r, phi, ...)\n",
    "a.add_poll_demod(8,'phi')\n",
    "a.poll_demod_duration.set(2)  # set the poll duration in seconds. Default is 1s (it is not possible to set it differently for each demod)\n",
    "a.PollDemod.build_poll()      # set up the poll correctly (updates added nodes and initializes poll)\n",
    "b = a.PollDemod.get()         # execute polling"
   ]
  },
  {
   "cell_type": "markdown",
   "metadata": {},
   "source": [
    "Take a snapshot of PollDemod Multi Parameter to get information (name, unit, ...) about the polled data"
   ]
  },
  {
   "cell_type": "code",
   "execution_count": 5,
   "metadata": {},
   "outputs": [
    {
     "data": {
      "text/plain": [
       "{'ts': '2018-05-31 15:27:00',\n",
       " '__class__': 'qcodes.instrument_drivers.ZI.ziuhfli_new.PollDemodSample',\n",
       " 'full_name': 'uhfli_PollDemod',\n",
       " 'labels': ('Polled r sample of demod 8',\n",
       "  'Polled phi sample of demod 8',\n",
       "  'Polled timestamps of demod 8'),\n",
       " 'inter_delay': 0,\n",
       " 'names': ('poll_demod8_r', 'poll_demod8_phi', 'poll_demod8_timestamps'),\n",
       " 'name': 'PollDemod',\n",
       " 'units': ('V', 'deg', 's'),\n",
       " 'instrument': 'qcodes.instrument_drivers.ZI.ziuhfli_new.ZIUHFLI',\n",
       " 'instrument_name': 'uhfli',\n",
       " 'post_delay': 0}"
      ]
     },
     "execution_count": 5,
     "metadata": {},
     "output_type": "execute_result"
    }
   ],
   "source": [
    "a.PollDemod.snapshot()"
   ]
  },
  {
   "cell_type": "markdown",
   "metadata": {},
   "source": [
    "Get the shapes of the PollDemod Multi Parameter"
   ]
  },
  {
   "cell_type": "code",
   "execution_count": 6,
   "metadata": {},
   "outputs": [
    {
     "data": {
      "text/plain": [
       "((219670,), (219670,), (219670,))"
      ]
     },
     "execution_count": 6,
     "metadata": {},
     "output_type": "execute_result"
    }
   ],
   "source": [
    "a.PollDemod.shapes"
   ]
  },
  {
   "cell_type": "markdown",
   "metadata": {},
   "source": [
    "To see a list of all raw data nodes currently added run"
   ]
  },
  {
   "cell_type": "code",
   "execution_count": 7,
   "metadata": {},
   "outputs": [
    {
     "data": {
      "text/plain": [
       "['/dev2013/demods/7/sample/r', '/dev2013/demods/7/sample/phi']"
      ]
     },
     "execution_count": 7,
     "metadata": {},
     "output_type": "execute_result"
    }
   ],
   "source": [
    "a.list_poll_demod()"
   ]
  },
  {
   "cell_type": "markdown",
   "metadata": {},
   "source": [
    "Note: Internally demodulaters are indexed from 0 to 7!"
   ]
  }
 ],
 "metadata": {
  "kernelspec": {
   "display_name": "Python 3",
   "language": "python",
   "name": "python3"
  },
  "language_info": {
   "codemirror_mode": {
    "name": "ipython",
    "version": 3
   },
   "file_extension": ".py",
   "mimetype": "text/x-python",
   "name": "python",
   "nbconvert_exporter": "python",
   "pygments_lexer": "ipython3",
   "version": "3.6.5"
  }
 },
 "nbformat": 4,
 "nbformat_minor": 2
}
