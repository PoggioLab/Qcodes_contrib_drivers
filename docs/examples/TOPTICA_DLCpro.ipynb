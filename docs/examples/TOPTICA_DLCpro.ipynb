{
 "cells": [
  {
   "cell_type": "code",
   "execution_count": 1,
   "metadata": {},
   "outputs": [],
   "source": [
    "from qcodes.instrument_drivers.TOPTICA.DLCpro import log as laser_logger, make_cmd\n",
    "from qcodes.instrument_drivers.TOPTICA.DLCpro import DLCpro\n",
    "\n",
    "import logging\n",
    "#import qcodes.logger as logger\n",
    "#logger.start_all_logging()"
   ]
  },
  {
   "cell_type": "code",
   "execution_count": 2,
   "metadata": {},
   "outputs": [
    {
     "name": "stdout",
     "output_type": "stream",
     "text": [
      "Connected to: TOPTICA DLCpro (serial:DLC  PRO+_040128, firmware:1.5.1.9621) in 0.13s\n"
     ]
    }
   ],
   "source": [
    "laser = DLCpro('laser','tcpip0::192.168.1.2::1998::socket')"
   ]
  },
  {
   "cell_type": "code",
   "execution_count": 3,
   "metadata": {},
   "outputs": [
    {
     "name": "stdout",
     "output_type": "stream",
     "text": [
      "920.0\n"
     ]
    }
   ],
   "source": [
    "laser.laser1.ctl.wavelength_set.set(920)\n",
    "print(laser.laser1.ctl.wavelength_set.get())"
   ]
  },
  {
   "cell_type": "code",
   "execution_count": 4,
   "metadata": {},
   "outputs": [
    {
     "name": "stdout",
     "output_type": "stream",
     "text": [
      "919.9995270775288\n"
     ]
    }
   ],
   "source": [
    "print(laser.laser1.ctl.wavelength_act.get())"
   ]
  },
  {
   "cell_type": "code",
   "execution_count": 5,
   "metadata": {},
   "outputs": [
    {
     "name": "stdout",
     "output_type": "stream",
     "text": [
      "(1, 919.9913444543032)\n",
      "(1, 919.9864348491584)\n",
      "(1, 919.972115033786)\n",
      "(1, 919.9647504797689)\n",
      "(1, 919.9414290445658)\n",
      "(1, 919.9197437274069)\n",
      "(1, 919.8956029315058)\n",
      "(1, 919.8743258285828)\n",
      "(1, 919.8403633879112)\n",
      "(1, 919.8059906205834)\n",
      "(1, 919.7695706031337)\n",
      "(1, 919.7306938820046)\n",
      "(1, 919.6762640059377)\n",
      "(1, 919.6312446407557)\n",
      "(1, 919.582539655816)\n",
      "(1, 919.5444744918506)\n",
      "(1, 919.506817245625)\n",
      "(1, 919.4720240001526)\n",
      "(1, 919.4351828111629)\n",
      "(1, 919.4024339804913)\n",
      "(1, 919.3721403843241)\n",
      "(1, 919.3520806204637)\n",
      "(1, 919.3320204655937)\n",
      "(1, 919.3086846913901)\n",
      "(1, 919.2853483880114)\n",
      "(1, 919.2656963536464)\n",
      "(1, 919.2489099437611)\n",
      "(1, 919.2296666492063)\n",
      "(1, 919.2128796515555)\n",
      "(1, 919.1969112776854)\n",
      "(1, 919.1854466513138)\n",
      "(1, 919.1719346062417)\n",
      "(1, 919.1633359397193)\n",
      "(1, 919.1461383911002)\n",
      "(1, 919.1371300366312)\n",
      "(1, 919.128121603292)\n",
      "(1, 919.1170656909418)\n",
      "(1, 919.1137898422454)\n",
      "(1, 919.1047812045516)\n",
      "(1, 919.0929060616198)\n",
      "(1, 919.0912681001145)\n",
      "(1, 919.0863541999523)\n",
      "(1, 919.0810307816258)\n",
      "(1, 919.0761168325695)\n",
      "(1, 919.0712028600436)\n",
      "(1, 919.0662888640478)\n",
      "(1, 919.0617843471001)\n",
      "(1, 919.0564608016447)\n",
      "(1, 919.0515467352367)\n",
      "(1, 919.0466326453576)\n",
      "(1, 919.0396709778496)\n",
      "(1, 919.0417185320067)\n",
      "(1, 919.0363948827224)\n",
      "(1, 919.0294331459387)\n",
      "(1, 919.031480720471)\n",
      "(1, 919.031480720471)\n",
      "(1, 919.0265665347471)\n",
      "(1, 919.0265665347471)\n",
      "(1, 919.02165232555)\n",
      "(1, 919.02165232555)\n",
      "(1, 919.02165232555)\n",
      "(1, 919.0167380928796)\n",
      "(1, 919.0163285724308)\n",
      "(1, 919.0163285724308)\n",
      "(1, 919.0163285724308)\n",
      "(0, 919.0114143143304)\n",
      "(0, 919.0114143143304)\n"
     ]
    }
   ],
   "source": [
    "laser.laser1.ctl.wavelength_set.set(919)\n",
    "while laser.laser1.ctl.state() != 0:\n",
    "    print((laser.laser1.ctl.state(), laser.laser1.ctl.wavelength_act()))\n",
    "print((laser.laser1.ctl.state(), laser.laser1.ctl.wavelength_act()))"
   ]
  },
  {
   "cell_type": "code",
   "execution_count": 6,
   "metadata": {},
   "outputs": [],
   "source": [
    "laser.laser1.ctl.wavelength_set.set(920)"
   ]
  },
  {
   "cell_type": "code",
   "execution_count": 9,
   "metadata": {},
   "outputs": [],
   "source": [
    "laser.standby.enabled.set(False)"
   ]
  },
  {
   "cell_type": "code",
   "execution_count": 6,
   "metadata": {},
   "outputs": [
    {
     "data": {
      "text/plain": [
       "False"
      ]
     },
     "execution_count": 6,
     "metadata": {},
     "output_type": "execute_result"
    }
   ],
   "source": [
    "laser.laser1.power_stabilization.enabled.get()"
   ]
  },
  {
   "cell_type": "code",
   "execution_count": 4,
   "metadata": {},
   "outputs": [
    {
     "data": {
      "text/plain": [
       "70"
      ]
     },
     "execution_count": 4,
     "metadata": {},
     "output_type": "execute_result"
    }
   ],
   "source": [
    "laser.laser1.power_stabilization.input_channel.get()"
   ]
  },
  {
   "cell_type": "code",
   "execution_count": 6,
   "metadata": {},
   "outputs": [],
   "source": [
    "laser.close()"
   ]
  },
  {
   "cell_type": "code",
   "execution_count": null,
   "metadata": {},
   "outputs": [],
   "source": []
  }
 ],
 "metadata": {
  "kernelspec": {
   "display_name": "Python 3",
   "language": "python",
   "name": "python3"
  },
  "language_info": {
   "codemirror_mode": {
    "name": "ipython",
    "version": 3
   },
   "file_extension": ".py",
   "mimetype": "text/x-python",
   "name": "python",
   "nbconvert_exporter": "python",
   "pygments_lexer": "ipython3",
   "version": "3.6.7"
  }
 },
 "nbformat": 4,
 "nbformat_minor": 2
}
